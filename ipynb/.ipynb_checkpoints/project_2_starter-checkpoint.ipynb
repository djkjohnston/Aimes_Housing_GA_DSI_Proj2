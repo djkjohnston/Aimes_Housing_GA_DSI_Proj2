{
 "cells": [
  {
   "cell_type": "markdown",
   "metadata": {},
   "source": [
    "**NOTE:** You probably will see warnings. These are not errors! However, you should read them and try to understand why they're there. Can you fix them?"
   ]
  },
  {
   "cell_type": "markdown",
   "metadata": {},
   "source": [
    "![](http://rentinginla.com/wp-content/uploads/2015/12/Buying.jpg)\n",
    "# [Project 2: Predicting House Prices with Advanced Regression Techniques](https://www.kaggle.com/c/house-prices-advanced-regression-techniques/data)\n",
    "\n",
    "The goal of this project is for you to use EDA, visualization, data cleaning, preprocesing, and linear models to predict home prices given the features of the home, and interpret your linear models to find out what features add value to a home! This project is a bit more open-ended than project 1. \n",
    "\n",
    "Be sure to ...\n",
    "\n",
    "* Think about your choices when it comes to your choices about the data. Be ready to defend your decisions!\n",
    "* Use lots of plots to dig deeper into the data! Describe the plots and convey what you learned from them.\n",
    "* Don't forget to read the [description of the data](../data_description.txt) (also available at the kaggle website)! This has valuable information that will help you clean and impute data. `NaN` means something in many of the columns! Don't just drop or fill them!\n",
    "* Try fitting many models! Document your work and note what you've tried.\n",
    "* Apply what you've learned in class, books, videos, Kaggle forums, and blog posts. There have been a TON of blog posts about this;  you should seek them out and read them!\n",
    "\n",
    "\n",
    "From the Kaggle competition website:\n",
    "\n",
    "    Ask a home buyer to describe their dream house, and they probably won't begin with the height of the basement ceiling or the proximity to an east-west railroad. But this playground competition's dataset proves that much more influences price negotiations than the number of bedrooms or a white-picket fence.\n",
    "\n",
    "    With 79 explanatory variables describing (almost) every aspect of residential homes in Ames, Iowa, this competition challenges you to predict the final price of each home.\n"
   ]
  },
  {
   "cell_type": "code",
   "execution_count": 1,
   "metadata": {},
   "outputs": [],
   "source": [
    "import pandas as pd\n",
    "import numpy as np\n",
    "import matplotlib.pyplot as plt\n",
    "%matplotlib inline\n",
    "\n",
    "import seaborn as sns\n",
    "\n",
    "from IPython.display import display\n",
    "\n",
    "%matplotlib inline \n",
    "np.random.seed(42)"
   ]
  },
  {
   "cell_type": "markdown",
   "metadata": {},
   "source": [
    "## 1. Load the Data \n",
    "\n",
    "* The data comes in three separate CSVs located in `../data/`. \n",
    "* Load the CSV into a `DataFrame`. \n",
    "* Make sure to check the `.head` or `.sample`. How many rows? How many columns?\n",
    "* Familiarize yourself with the column names and what they represent.\n",
    "* Is there a column that can be set as the `index`? If so, set that column as the index when loading the data. (`df.set_index()`)"
   ]
  },
  {
   "cell_type": "code",
   "execution_count": 2,
   "metadata": {},
   "outputs": [],
   "source": [
    "csv_path = '../data/train.csv'\n",
    "\n",
    "df = pd.read_csv(csv_path)"
   ]
  },
  {
   "cell_type": "markdown",
   "metadata": {},
   "source": [
    "**Bonus:** Write an assertion statement to programmatically verify the correct number of rows and columns were imported."
   ]
  },
  {
   "cell_type": "code",
   "execution_count": 5,
   "metadata": {},
   "outputs": [],
   "source": [
    "assert len(df.columns) == 81 #79 features, one outcome, plus one ID\n",
    "assert len(df) == 1460 #looking at the csv directly shows 1461 rows, minus one for the headers"
   ]
  },
  {
   "cell_type": "markdown",
   "metadata": {},
   "source": [
    "## 2. Exploratory Data Analysis (EDA)"
   ]
  },
  {
   "cell_type": "markdown",
   "metadata": {},
   "source": [
    "### A. Data Types\n",
    "\n",
    "Read the data description on Kaggle. Which variables are numerical and categorical? Are there any columns that can be deleted? \n",
    "\n",
    "Make sure the `dtype` of each column is correct. \n",
    "\n",
    "**NOTE:** There is one column in particular that should be categorical but will load in pandas as numeric."
   ]
  },
  {
   "cell_type": "code",
   "execution_count": 6,
   "metadata": {},
   "outputs": [
    {
     "name": "stdout",
     "output_type": "stream",
     "text": [
      "<class 'pandas.core.frame.DataFrame'>\n",
      "RangeIndex: 1460 entries, 0 to 1459\n",
      "Data columns (total 81 columns):\n",
      "Id               1460 non-null int64\n",
      "MSSubClass       1460 non-null int64\n",
      "MSZoning         1460 non-null object\n",
      "LotFrontage      1201 non-null float64\n",
      "LotArea          1460 non-null int64\n",
      "Street           1460 non-null object\n",
      "Alley            91 non-null object\n",
      "LotShape         1460 non-null object\n",
      "LandContour      1460 non-null object\n",
      "Utilities        1460 non-null object\n",
      "LotConfig        1460 non-null object\n",
      "LandSlope        1460 non-null object\n",
      "Neighborhood     1460 non-null object\n",
      "Condition1       1460 non-null object\n",
      "Condition2       1460 non-null object\n",
      "BldgType         1460 non-null object\n",
      "HouseStyle       1460 non-null object\n",
      "OverallQual      1460 non-null int64\n",
      "OverallCond      1460 non-null int64\n",
      "YearBuilt        1460 non-null int64\n",
      "YearRemodAdd     1460 non-null int64\n",
      "RoofStyle        1460 non-null object\n",
      "RoofMatl         1460 non-null object\n",
      "Exterior1st      1460 non-null object\n",
      "Exterior2nd      1460 non-null object\n",
      "MasVnrType       1452 non-null object\n",
      "MasVnrArea       1452 non-null float64\n",
      "ExterQual        1460 non-null object\n",
      "ExterCond        1460 non-null object\n",
      "Foundation       1460 non-null object\n",
      "BsmtQual         1423 non-null object\n",
      "BsmtCond         1423 non-null object\n",
      "BsmtExposure     1422 non-null object\n",
      "BsmtFinType1     1423 non-null object\n",
      "BsmtFinSF1       1460 non-null int64\n",
      "BsmtFinType2     1422 non-null object\n",
      "BsmtFinSF2       1460 non-null int64\n",
      "BsmtUnfSF        1460 non-null int64\n",
      "TotalBsmtSF      1460 non-null int64\n",
      "Heating          1460 non-null object\n",
      "HeatingQC        1460 non-null object\n",
      "CentralAir       1460 non-null object\n",
      "Electrical       1459 non-null object\n",
      "1stFlrSF         1460 non-null int64\n",
      "2ndFlrSF         1460 non-null int64\n",
      "LowQualFinSF     1460 non-null int64\n",
      "GrLivArea        1460 non-null int64\n",
      "BsmtFullBath     1460 non-null int64\n",
      "BsmtHalfBath     1460 non-null int64\n",
      "FullBath         1460 non-null int64\n",
      "HalfBath         1460 non-null int64\n",
      "BedroomAbvGr     1460 non-null int64\n",
      "KitchenAbvGr     1460 non-null int64\n",
      "KitchenQual      1460 non-null object\n",
      "TotRmsAbvGrd     1460 non-null int64\n",
      "Functional       1460 non-null object\n",
      "Fireplaces       1460 non-null int64\n",
      "FireplaceQu      770 non-null object\n",
      "GarageType       1379 non-null object\n",
      "GarageYrBlt      1379 non-null float64\n",
      "GarageFinish     1379 non-null object\n",
      "GarageCars       1460 non-null int64\n",
      "GarageArea       1460 non-null int64\n",
      "GarageQual       1379 non-null object\n",
      "GarageCond       1379 non-null object\n",
      "PavedDrive       1460 non-null object\n",
      "WoodDeckSF       1460 non-null int64\n",
      "OpenPorchSF      1460 non-null int64\n",
      "EnclosedPorch    1460 non-null int64\n",
      "3SsnPorch        1460 non-null int64\n",
      "ScreenPorch      1460 non-null int64\n",
      "PoolArea         1460 non-null int64\n",
      "PoolQC           7 non-null object\n",
      "Fence            281 non-null object\n",
      "MiscFeature      54 non-null object\n",
      "MiscVal          1460 non-null int64\n",
      "MoSold           1460 non-null int64\n",
      "YrSold           1460 non-null int64\n",
      "SaleType         1460 non-null object\n",
      "SaleCondition    1460 non-null object\n",
      "SalePrice        1460 non-null int64\n",
      "dtypes: float64(3), int64(35), object(43)\n",
      "memory usage: 924.0+ KB\n"
     ]
    }
   ],
   "source": [
    "df.info()"
   ]
  },
  {
   "cell_type": "code",
   "execution_count": 7,
   "metadata": {},
   "outputs": [],
   "source": [
    "# MSSubClass should be categorical\n",
    "df['MSSubClass'] = df['MSSubClass'].astype(str)"
   ]
  },
  {
   "cell_type": "code",
   "execution_count": 21,
   "metadata": {},
   "outputs": [],
   "source": [
    "col_groups = df.columns.to_series().groupby(df.dtypes).groups\n",
    "col_groups = {key.name: value for key, value in col_groups.items()}"
   ]
  },
  {
   "cell_type": "code",
   "execution_count": 26,
   "metadata": {
    "collapsed": true
   },
   "outputs": [
    {
     "name": "stdout",
     "output_type": "stream",
     "text": [
      "120    0.059589\n",
      "60     0.204795\n",
      "30     0.047260\n",
      "160    0.043151\n",
      "85     0.013699\n",
      "50     0.098630\n",
      "180    0.006849\n",
      "80     0.039726\n",
      "40     0.002740\n",
      "45     0.008219\n",
      "90     0.035616\n",
      "70     0.041096\n",
      "75     0.010959\n",
      "20     0.367123\n",
      "190    0.020548\n",
      "Name: MSSubClass, dtype: float64\n",
      "\n",
      "\n",
      "RL         0.788356\n",
      "RH         0.010959\n",
      "C (all)    0.006849\n",
      "FV         0.044521\n",
      "RM         0.149315\n",
      "Name: MSZoning, dtype: float64\n",
      "\n",
      "\n",
      "Pave    0.99589\n",
      "Grvl    0.00411\n",
      "Name: Street, dtype: float64\n",
      "\n",
      "\n",
      "NaN     0.937671\n",
      "Pave    0.028082\n",
      "Grvl    0.034247\n",
      "Name: Alley, dtype: float64\n",
      "\n",
      "\n",
      "IR1    0.331507\n",
      "Reg    0.633562\n",
      "IR3    0.006849\n",
      "IR2    0.028082\n",
      "Name: LotShape, dtype: float64\n",
      "\n",
      "\n",
      "Low    0.024658\n",
      "HLS    0.034247\n",
      "Bnk    0.043151\n",
      "Lvl    0.897945\n",
      "Name: LandContour, dtype: float64\n",
      "\n",
      "\n",
      "NoSeWa    0.000685\n",
      "AllPub    0.999315\n",
      "Name: Utilities, dtype: float64\n",
      "\n",
      "\n",
      "Corner     0.180137\n",
      "FR3        0.002740\n",
      "CulDSac    0.064384\n",
      "Inside     0.720548\n",
      "FR2        0.032192\n",
      "Name: LotConfig, dtype: float64\n",
      "\n",
      "\n",
      "Mod    0.044521\n",
      "Gtl    0.946575\n",
      "Sev    0.008904\n",
      "Name: LandSlope, dtype: float64\n",
      "\n",
      "\n",
      "SWISU      0.017123\n",
      "ClearCr    0.019178\n",
      "NAmes      0.154110\n",
      "Mitchel    0.033562\n",
      "NridgHt    0.052740\n",
      "Gilbert    0.054110\n",
      "Crawfor    0.034932\n",
      "IDOTRR     0.025342\n",
      "Timber     0.026027\n",
      "Somerst    0.058904\n",
      "Blueste    0.001370\n",
      "NPkVill    0.006164\n",
      "BrkSide    0.039726\n",
      "OldTown    0.077397\n",
      "NWAmes     0.050000\n",
      "StoneBr    0.017123\n",
      "MeadowV    0.011644\n",
      "SawyerW    0.040411\n",
      "Edwards    0.068493\n",
      "Sawyer     0.050685\n",
      "NoRidge    0.028082\n",
      "CollgCr    0.102740\n",
      "BrDale     0.010959\n",
      "Veenker    0.007534\n",
      "Blmngtn    0.011644\n",
      "Name: Neighborhood, dtype: float64\n",
      "\n",
      "\n",
      "RRNn      0.003425\n",
      "PosN      0.013014\n",
      "RRAn      0.017808\n",
      "Feedr     0.055479\n",
      "RRAe      0.007534\n",
      "Norm      0.863014\n",
      "RRNe      0.001370\n",
      "Artery    0.032877\n",
      "PosA      0.005479\n",
      "Name: Condition1, dtype: float64\n",
      "\n",
      "\n",
      "RRNn      0.001370\n",
      "PosN      0.001370\n",
      "RRAn      0.000685\n",
      "Feedr     0.004110\n",
      "RRAe      0.000685\n",
      "Norm      0.989726\n",
      "Artery    0.001370\n",
      "PosA      0.000685\n",
      "Name: Condition2, dtype: float64\n",
      "\n",
      "\n",
      "Twnhs     0.029452\n",
      "1Fam      0.835616\n",
      "Duplex    0.035616\n",
      "TwnhsE    0.078082\n",
      "2fmCon    0.021233\n",
      "Name: BldgType, dtype: float64\n",
      "\n",
      "\n",
      "1.5Fin    0.105479\n",
      "SFoyer    0.025342\n",
      "SLvl      0.044521\n",
      "1.5Unf    0.009589\n",
      "2.5Fin    0.005479\n",
      "1Story    0.497260\n",
      "2.5Unf    0.007534\n",
      "2Story    0.304795\n",
      "Name: HouseStyle, dtype: float64\n",
      "\n",
      "\n",
      "Gambrel    0.007534\n",
      "Mansard    0.004795\n",
      "Hip        0.195890\n",
      "Flat       0.008904\n",
      "Shed       0.001370\n",
      "Gable      0.781507\n",
      "Name: RoofStyle, dtype: float64\n",
      "\n",
      "\n",
      "Metal      0.000685\n",
      "WdShngl    0.004110\n",
      "CompShg    0.982192\n",
      "WdShake    0.003425\n",
      "ClyTile    0.000685\n",
      "Roll       0.000685\n",
      "Membran    0.000685\n",
      "Tar&Grv    0.007534\n",
      "Name: RoofMatl, dtype: float64\n",
      "\n",
      "\n",
      "VinylSd    0.352740\n",
      "MetalSd    0.150685\n",
      "BrkFace    0.034247\n",
      "HdBoard    0.152055\n",
      "AsbShng    0.013699\n",
      "Stucco     0.017123\n",
      "Wd Sdng    0.141096\n",
      "Plywood    0.073973\n",
      "CBlock     0.000685\n",
      "CemntBd    0.041781\n",
      "Stone      0.001370\n",
      "ImStucc    0.000685\n",
      "WdShing    0.017808\n",
      "BrkComm    0.001370\n",
      "AsphShn    0.000685\n",
      "Name: Exterior1st, dtype: float64\n",
      "\n",
      "\n",
      "VinylSd    0.345205\n",
      "MetalSd    0.146575\n",
      "BrkFace    0.017123\n",
      "HdBoard    0.141781\n",
      "CmentBd    0.041096\n",
      "AsbShng    0.013699\n",
      "Stucco     0.017808\n",
      "Wd Sdng    0.134932\n",
      "Plywood    0.097260\n",
      "CBlock     0.000685\n",
      "Other      0.000685\n",
      "Wd Shng    0.026027\n",
      "Stone      0.003425\n",
      "Brk Cmn    0.004795\n",
      "ImStucc    0.006849\n",
      "AsphShn    0.002055\n",
      "Name: Exterior2nd, dtype: float64\n",
      "\n",
      "\n",
      "NaN        0.005479\n",
      "BrkCmn     0.010274\n",
      "BrkFace    0.304795\n",
      "None       0.591781\n",
      "Stone      0.087671\n",
      "Name: MasVnrType, dtype: float64\n",
      "\n",
      "\n",
      "Fa    0.009589\n",
      "Ex    0.035616\n",
      "Gd    0.334247\n",
      "TA    0.620548\n",
      "Name: ExterQual, dtype: float64\n",
      "\n",
      "\n",
      "Fa    0.019178\n",
      "Ex    0.002055\n",
      "Po    0.000685\n",
      "Gd    0.100000\n",
      "TA    0.878082\n",
      "Name: ExterCond, dtype: float64\n",
      "\n",
      "\n",
      "Wood      0.002055\n",
      "BrkTil    0.100000\n",
      "CBlock    0.434247\n",
      "Stone     0.004110\n",
      "PConc     0.443151\n",
      "Slab      0.016438\n",
      "Name: Foundation, dtype: float64\n",
      "\n",
      "\n",
      "NaN    0.025342\n",
      "Fa     0.023973\n",
      "Ex     0.082877\n",
      "Gd     0.423288\n",
      "TA     0.444521\n",
      "Name: BsmtQual, dtype: float64\n",
      "\n",
      "\n",
      "NaN    0.025342\n",
      "Fa     0.030822\n",
      "Po     0.001370\n",
      "Gd     0.044521\n",
      "TA     0.897945\n",
      "Name: BsmtCond, dtype: float64\n",
      "\n",
      "\n",
      "NaN    0.026027\n",
      "No     0.652740\n",
      "Av     0.151370\n",
      "Mn     0.078082\n",
      "Gd     0.091781\n",
      "Name: BsmtExposure, dtype: float64\n",
      "\n",
      "\n",
      "NaN    0.025342\n",
      "GLQ    0.286301\n",
      "LwQ    0.050685\n",
      "Rec    0.091096\n",
      "BLQ    0.101370\n",
      "ALQ    0.150685\n",
      "Unf    0.294521\n",
      "Name: BsmtFinType1, dtype: float64\n",
      "\n",
      "\n",
      "NaN    0.026027\n",
      "GLQ    0.009589\n",
      "LwQ    0.031507\n",
      "Rec    0.036986\n",
      "BLQ    0.022603\n",
      "ALQ    0.013014\n",
      "Unf    0.860274\n",
      "Name: BsmtFinType2, dtype: float64\n",
      "\n",
      "\n",
      "Grav     0.004795\n",
      "OthW     0.001370\n",
      "Wall     0.002740\n",
      "GasW     0.012329\n",
      "GasA     0.978082\n",
      "Floor    0.000685\n",
      "Name: Heating, dtype: float64\n",
      "\n",
      "\n",
      "Fa    0.033562\n",
      "Ex    0.507534\n",
      "Po    0.000685\n",
      "Gd    0.165068\n",
      "TA    0.293151\n",
      "Name: HeatingQC, dtype: float64\n",
      "\n",
      "\n",
      "N    0.065068\n",
      "Y    0.934932\n",
      "Name: CentralAir, dtype: float64\n",
      "\n",
      "\n",
      "NaN      0.000685\n",
      "Mix      0.000685\n",
      "FuseP    0.002055\n",
      "FuseA    0.064384\n",
      "SBrkr    0.913699\n",
      "FuseF    0.018493\n",
      "Name: Electrical, dtype: float64\n",
      "\n",
      "\n",
      "Fa    0.026712\n",
      "Ex    0.068493\n",
      "Gd    0.401370\n",
      "TA    0.503425\n",
      "Name: KitchenQual, dtype: float64\n",
      "\n",
      "\n",
      "Mod     0.010274\n",
      "Min1    0.021233\n",
      "Typ     0.931507\n",
      "Sev     0.000685\n",
      "Min2    0.023288\n",
      "Maj2    0.003425\n",
      "Maj1    0.009589\n",
      "Name: Functional, dtype: float64\n",
      "\n",
      "\n",
      "NaN    0.472603\n",
      "Fa     0.022603\n",
      "Ex     0.016438\n",
      "Po     0.013699\n",
      "Gd     0.260274\n",
      "TA     0.214384\n",
      "Name: FireplaceQu, dtype: float64\n",
      "\n",
      "\n",
      "NaN        0.055479\n",
      "Attchd     0.595890\n",
      "2Types     0.004110\n",
      "Detchd     0.265068\n",
      "CarPort    0.006164\n",
      "BuiltIn    0.060274\n",
      "Basment    0.013014\n",
      "Name: GarageType, dtype: float64\n",
      "\n",
      "\n",
      "NaN    0.055479\n",
      "Fin    0.241096\n",
      "RFn    0.289041\n",
      "Unf    0.414384\n",
      "Name: GarageFinish, dtype: float64\n",
      "\n",
      "\n",
      "NaN    0.055479\n",
      "Fa     0.032877\n",
      "Ex     0.002055\n",
      "Po     0.002055\n",
      "Gd     0.009589\n",
      "TA     0.897945\n",
      "Name: GarageQual, dtype: float64\n",
      "\n",
      "\n",
      "NaN    0.055479\n",
      "Fa     0.023973\n",
      "Ex     0.001370\n",
      "Po     0.004795\n",
      "Gd     0.006164\n",
      "TA     0.908219\n",
      "Name: GarageCond, dtype: float64\n",
      "\n",
      "\n",
      "P    0.020548\n",
      "N    0.061644\n",
      "Y    0.917808\n",
      "Name: PavedDrive, dtype: float64\n",
      "\n",
      "\n",
      "NaN    0.995205\n",
      "Fa     0.001370\n",
      "Ex     0.001370\n",
      "Gd     0.002055\n",
      "Name: PoolQC, dtype: float64\n",
      "\n",
      "\n",
      "NaN      0.807534\n",
      "MnPrv    0.107534\n",
      "MnWw     0.007534\n",
      "GdPrv    0.040411\n",
      "GdWo     0.036986\n",
      "Name: Fence, dtype: float64\n",
      "\n",
      "\n",
      "NaN     0.963014\n",
      "Gar2    0.001370\n",
      "Othr    0.001370\n",
      "TenC    0.000685\n",
      "Shed    0.033562\n",
      "Name: MiscFeature, dtype: float64\n",
      "\n",
      "\n",
      "ConLD    0.006164\n",
      "ConLI    0.003425\n",
      "WD       0.867808\n",
      "COD      0.029452\n",
      "CWD      0.002740\n",
      "Con      0.001370\n",
      "ConLw    0.003425\n",
      "Oth      0.002055\n",
      "New      0.083562\n",
      "Name: SaleType, dtype: float64\n",
      "\n",
      "\n",
      "Partial    0.085616\n",
      "AdjLand    0.002740\n",
      "Family     0.013699\n",
      "Alloca     0.008219\n",
      "Normal     0.820548\n",
      "Abnorml    0.069178\n",
      "Name: SaleCondition, dtype: float64\n",
      "\n",
      "\n"
     ]
    }
   ],
   "source": [
    "# looking at object variables, including NaN values. Normalized to show % of cases\n",
    "for col in col_groups['object']:\n",
    "    print(df[col].value_counts(sort = False, dropna = False, normalize = True))\n",
    "    print('\\n')\n"
   ]
  },
  {
   "cell_type": "markdown",
   "metadata": {},
   "source": [
    "|Variable|Notes|Verdict|\n",
    "| -: | :-------------------------- | :--- |\n",
    "|MSSubClass|Many categories. Some buckets have very small base sizes, so it will likely need grouping. Maybe group by number of stories  ||\n",
    "|MSZoning|Relatively few categories, but some may need grouping due to small base sizes. Maybe RL vs RM vs Other||\n",
    "|Street|Very little differentiation; likely exclude from analysis  ||\n",
    "|Alley|Mostly NaNs; possibly exclude or convert to Bool for Alley status  ||\n",
    "|LotShape|Two small categories that may need to be combined together or with a larger group; likely Regular vs Other||\n",
    "|LandContour|Most lots are level. May need to group non-level   ||\n",
    "|Utilities|Almost exclusively All Public. Likely exclude from analysis   ||\n",
    "|LotConfig|Some very small buckets that may need to be combined; Corner vs Inside vs Other?||\n",
    "|LandSlope|very little differentiation. Either exclude or transform to Bool for 'Gentle'||\n",
    "|Neighborhood|Abbreviated neighborhood name. Maybe do some sort of clustering based on prices of houses?||\n",
    "|Condition1|Will likely need to do some grouping. Norm vs Railroads vs Other?||\n",
    "|Condition2|Very little differentiation. Likely exclude||\n",
    "|BldgType|Will needs some grouping; likely Single Family vs Townhouse vs Other||\n",
    "|HouseStyle|Looks like this may be partially redundant with `MSSubClass`||\n",
    "|RoofStyle|Some differential, but will need grouping: Gable vs Hip vs Other?||\n",
    "|RoofMatl|Very little differentiation. Likely exclude or group to CompShg vs other||\n",
    "|Exterior1st|Lots of differentiation though some groups are too small. Vinyl vs Wood vs Hardboard vs Metal vs Other?||\n",
    "|Exterior2nd|Same groups as `Exterior1st`?||\n",
    "|MasVnrType|Some grouping required. None vs Brick vs Other. Should `NaN` be grouped with Other or None?||\n",
    "|ExterQual|Fair and Typical, Good and Excellent? With two groups, it could be a bool for one group||\n",
    "|ExterCond|Similare to `ExterQual`||\n",
    "|Foundation|Group Cinderblock vs Poured Concrete vs Other||\n",
    "|BsmtQual|Group TA and Fa, Gd and Ex. NaN's likely indicate No basement||\n",
    "|BsmtCond|Not sure there is enough differentiation to group. Maybe need to test||\n",
    "|BsmtExposure|Reasonable differentiation; may not need grouping| |\n",
    "|BsmtFinType1|Reasonable differentiation; may be fine as is, or LwQ and BLQ may need to be grouped||\n",
    "|BsmtFinType2|Not much differentiation, may need to be grouped (Unf vs Other) or ecluded?||\n",
    "|Heating|Very little differentiation||\n",
    "|HeatingQC|May need to group Fa and Po, and maybe with TA. Gd and Ex can be left as is||\n",
    "|CentralAir|Not much differentiation||\n",
    "|Electrical|Not much differentiation, may need to group to SBrkr vs Other||\n",
    "|KitchenQual|May need to group Gd and Ex, TA and Fa||\n",
    "|Functional|Not much differentiation, may group to Typ vs Other||\n",
    "|FireplaceQu|May need to group into Gd+Ex, TA+Fa+Po||\n",
    "|GarageType|Group to Attchd, Detchd vs Other?||\n",
    "|GarageFinish|Can likely leave as is||\n",
    "|GarageQual|Not much differentiation and no logical grouping would work. Likely exclude||\n",
    "|GarageCond|Same as `GarageQual`||\n",
    "|PavedDrive|Almost no differentiation||\n",
    "|PoolQC|Almost all `NaN`s, likely exclude||\n",
    "|Fence|Many `NaN`s; may need to group ||\n",
    "|MiscFeature|Almost all `NaN`s. The Non-`NaN`s are discimilar enough that combining doesn't make sense||\n",
    "|SaleType|Not much differentiation. Maybe combing to WD vs New vs Other||\n",
    "|SaleCondition|Could use some groupings, but not sure of predictive merit||"
   ]
  },
  {
   "cell_type": "markdown",
   "metadata": {},
   "source": [
    "### B. Plot histograms of the numeric columns. \n"
   ]
  },
  {
   "cell_type": "code",
   "execution_count": 61,
   "metadata": {
    "scrolled": true
   },
   "outputs": [
    {
     "data": {
      "image/png": "[encoded data removed]",
      "text/plain": [
       "<matplotlib.figure.Figure at 0x7fb5a0fc96a0>"
      ]
     },
     "metadata": {},
     "output_type": "display_data"
    }
   ],
   "source": [
    "numeric_cols = [i for i in col_groups['int64']]\n",
    "numeric_cols.extend([i for i in col_groups['float64']])\n",
    "numeric_cols.remove('Id')\n",
    "\n",
    "fig = plt.figure(figsize=(16,40))\n",
    "for i, col in enumerate(numeric_cols):\n",
    "    fig.add_subplot(9,4,i+1)\n",
    "    df[col].hist().set_ylim([0,1500])\n",
    "    plt.title(col)\n",
    "    \n",
    "plt.show()"
   ]
  },
  {
   "cell_type": "markdown",
   "metadata": {},
   "source": [
    "|GrLivArea|Unimodal, right skewed, central tendency around 1500|\n",
    "|BsmtFullBath|Most are 0s. Likely useful though|\n",
    "|BsmtHalfBath|Almost all 0s. Maybe combine with `BsmtFullBath`, possibly following the 0.5 bath convention, or maybe with `HalfBath`|\n",
    "|FullBath|Does not include `BsmtFullBath`. Most values are 1 or 2; potentially sum with `BsmtFullBath`|\n",
    "|HalfBath|Mostly 0s or 1s. Maybe combine with `FullBath` or `BsmtHalfBath`|\n",
    "|BedroomAbvGr|   |\n",
    "|KitchenAbvGr|   |\n",
    "|TotRmsAbvGrd|   |\n",
    "|Fireplaces|   |\n",
    "|GarageCars|   |\n",
    "|GarageArea|   |\n",
    "|WoodDeckSF|   |\n",
    "|OpenPorchSF|   |\n",
    "|EnclosedPorch|   |\n",
    "|3SsnPorch|   |\n",
    "|ScreenPorch|   |\n",
    "|PoolArea|   |\n",
    "|MiscVal|   |\n",
    "|MoSold|   |\n",
    "|YrSold|   |\n",
    "|SalePrice|   |\n",
    "|LotFrontage|   |\n",
    "|MasVnrArea|   |\n",
    "|GarageYrBlt|   |\n",
    "\n",
    "#### What are your observations? Add them to this markdown cell.\n",
    "\n",
    "---\n",
    "|Variable|Observations|\n",
    "| --- | --- |\n",
    "|LotArea|Most valuse are closer to 0|\n",
    "|OverallQual|A bit right skewed, central tendency toward 5|\n",
    "|OverallCond|Right skewed, central tendency around 5|\n",
    "|YearBuilt|Left skewed. Multimodal (likely reflecting building booms) with the heaviest weight in the 2000s|\n",
    "|YearRemodAdd|Multimodal, weighted towards post 2000|\n",
    "|BsmtFinSF1|right skewed, heavily weighted towards 0. Not sure if there is enough differentiation to be useful|\n",
    "|BsmtFinSF2|right skewed, heavily weighted towards 0|\n",
    "|BsmtUnfSF|right skewed, weighted towards 0 with less extreme weight than `BsmtFinSF` 1 and 2|\n",
    "|TotalBsmtSF|Likely summation of `BsmtFinSF1`, `BsmtFinSF2`, and `BsmtUnfSF`|\n",
    "|1stFlrSF|Unimodal, peak around 1000, right skewed|\n",
    "|2ndFlrSF|bimodal. Many 0s, likely reflecting 1 story houses|\n",
    "|LowQualFinSF|most values are 0. May not have enough differentiation to be predictive|\n"
   ]
  },
  {
   "cell_type": "markdown",
   "metadata": {},
   "source": [
    "### C. Plot the Numeric Columns Against `SalePrice` using scatter plots."
   ]
  },
  {
   "cell_type": "code",
   "execution_count": null,
   "metadata": {
    "collapsed": true
   },
   "outputs": [],
   "source": []
  },
  {
   "cell_type": "markdown",
   "metadata": {},
   "source": [
    "#### What are your observations? Add them to this markdown cell.\n",
    "\n",
    "---\n",
    "\n"
   ]
  },
  {
   "cell_type": "markdown",
   "metadata": {},
   "source": [
    "### D. Use bar plots to plot categorical features against `SalePrice`. \n",
    "\n",
    "**HINT:** Look up how to create bar plots in `matplotlib`. You will have to transform the data before you can create a bar plot! Also, look up [how to plot error bars](https://pandas.pydata.org/pandas-docs/stable/visualization.html#plotting-with-error-bars) so you can also observe the variability in your data!"
   ]
  },
  {
   "cell_type": "code",
   "execution_count": null,
   "metadata": {
    "collapsed": true
   },
   "outputs": [],
   "source": []
  },
  {
   "cell_type": "markdown",
   "metadata": {},
   "source": [
    "#### What are your observations? Add them to this markdown cell.\n",
    "\n",
    "---\n",
    "\n"
   ]
  },
  {
   "cell_type": "markdown",
   "metadata": {},
   "source": [
    "## 3. Preprocessing"
   ]
  },
  {
   "cell_type": "markdown",
   "metadata": {},
   "source": [
    "### A. Identify and Remove Outliers for `SalePrice`\n",
    "\n",
    "Make sure to... \n",
    "* Plot a histogram of the housing price. \n",
    "* Supply a definition of what an outlier is by your criteria. Does Tukey's method make sense with 1.5 times the interquartile range, or should that range be increased or decreased?\n",
    "* Use masking to remove the outliers as you've defined them."
   ]
  },
  {
   "cell_type": "code",
   "execution_count": null,
   "metadata": {
    "collapsed": true
   },
   "outputs": [],
   "source": []
  },
  {
   "cell_type": "markdown",
   "metadata": {},
   "source": [
    "### B. Fill missing data!\n",
    "\n",
    "* How many null values are in each column? Make a bar plot showing this only for columns with missing data.\n",
    "* For each column with nulls, do nulls represent anything? Read the data description.\n",
    "  * Some columns that are appearing as _null_ might legitimately be known (ie: \"na\").  Double check the [data description](../data_description.txt) for proper value representation.  A feature might actually be better represented by \"not available\" or \"na\" rather than `NULL` or `NaN`.  There's a difference between `NULL` (unknown), and \"NA\" (not available).  It might mean the difference between \"there isn't a garage\" and \"there is no garage data\". \n",
    "* Fill null values for each column by imputation. Here are some common methods for imputation:\n",
    "  1. Using domain knowledge to select an appropriate value.\n",
    "  1. Value from a randomly selected row.\n",
    "  2. Mean, median, or mode value of the series.\n",
    "  3. Value estimated by a predictive model.\n",
    "* Make sure to justify your method for filling null values.\n",
    "  "
   ]
  },
  {
   "cell_type": "code",
   "execution_count": null,
   "metadata": {
    "collapsed": true
   },
   "outputs": [],
   "source": []
  },
  {
   "cell_type": "markdown",
   "metadata": {},
   "source": [
    "Verify that you have *truly* eliminated all the null values!"
   ]
  },
  {
   "cell_type": "code",
   "execution_count": null,
   "metadata": {
    "collapsed": true
   },
   "outputs": [],
   "source": []
  },
  {
   "cell_type": "markdown",
   "metadata": {},
   "source": [
    "### C. Create dummy variables for categorical columns\n",
    "\n",
    "Use `pd.get_dummies()` to turn your categorical features into numeric features. Make sure there are **no null values** in your dataset before you do this!"
   ]
  },
  {
   "cell_type": "code",
   "execution_count": null,
   "metadata": {
    "collapsed": true
   },
   "outputs": [],
   "source": []
  },
  {
   "cell_type": "markdown",
   "metadata": {},
   "source": [
    "### D. Split your data into a train and test set.\n",
    "\n",
    "* Use `train_test_split` to hold out a test set. \n",
    "* Why do we hold out a test set?"
   ]
  },
  {
   "cell_type": "code",
   "execution_count": null,
   "metadata": {
    "collapsed": true
   },
   "outputs": [],
   "source": [
    "from sklearn.model_selection import train_test_split"
   ]
  },
  {
   "cell_type": "code",
   "execution_count": null,
   "metadata": {
    "collapsed": true
   },
   "outputs": [],
   "source": []
  },
  {
   "cell_type": "markdown",
   "metadata": {},
   "source": [
    "We hold out a test set because we need to understand how our model performs on data it hasn't seen. We may create a model that fits our training data very well but does not score well on the test set, suggesting that it won't predict well given new data. With a test set, we can understand how our model performs on unseen data."
   ]
  },
  {
   "cell_type": "markdown",
   "metadata": {},
   "source": [
    "### E. Scale the data\n",
    "\n",
    "Make sure to...\n",
    "* instantiate a `StandardScaler` object\n",
    "* `fit` the scaler on your training data\n",
    "* `transform` both your training and test data."
   ]
  },
  {
   "cell_type": "code",
   "execution_count": null,
   "metadata": {
    "collapsed": true
   },
   "outputs": [],
   "source": [
    "from sklearn.preprocessing import StandardScaler"
   ]
  },
  {
   "cell_type": "markdown",
   "metadata": {},
   "source": [
    "## 4. Modeling\n",
    "\n",
    "Now that you've completed your EDA, you can now use your training data to build a model to predict home price from your features! As far as regression methods, you've learned a few, including ordinary least squares (a.k.a. `LinearRegression`), `Lasso`, `Ridge`, and `ElasticNet`. "
   ]
  },
  {
   "cell_type": "markdown",
   "metadata": {},
   "source": [
    "### A. Benchmarking\n",
    "\n",
    "As we get started with modeling we should have some basis for comparison to get a sense of what a \"good\" model is for this task. \n",
    "\n",
    "For this task, as we will be focusing on linear models, we will use the most naive of the linear models, the Linear Regression as our benchmark. "
   ]
  },
  {
   "cell_type": "code",
   "execution_count": null,
   "metadata": {
    "collapsed": true
   },
   "outputs": [],
   "source": [
    "from sklearn.linear_model import LinearRegression"
   ]
  },
  {
   "cell_type": "markdown",
   "metadata": {},
   "source": [
    "#### Results Dictionary"
   ]
  },
  {
   "cell_type": "markdown",
   "metadata": {},
   "source": [
    "Make a results `list` to hold your results. After each model fit and score, you will add a dictionary of your results to this list using `.append()`. This will give you a list of dictionaries ... perfect for a DataFrame!\n",
    "\n",
    "This is the pattern you will be using:"
   ]
  },
  {
   "cell_type": "code",
   "execution_count": null,
   "metadata": {
    "collapsed": true
   },
   "outputs": [],
   "source": [
    "example_results = list()\n",
    "result_1 = {'name':'test1','dataset' : 'train','preprocessing': 'raw','score': '1 bajillion'}\n",
    "example_results.append(result_1)\n",
    "result_2 = {'name':'test1','dataset' : 'train','preprocessing': 'scaled','score': '20 bajillion'}\n",
    "example_results.append(result_2)"
   ]
  },
  {
   "cell_type": "markdown",
   "metadata": {},
   "source": [
    "Then we pass the results list to pass to a DataFrame."
   ]
  },
  {
   "cell_type": "code",
   "execution_count": null,
   "metadata": {},
   "outputs": [],
   "source": [
    "pd.DataFrame(example_results)"
   ]
  },
  {
   "cell_type": "markdown",
   "metadata": {},
   "source": [
    "This gives us a convenient tool for manipulating our results and tracking our work ... our old friend, Pandas!"
   ]
  },
  {
   "cell_type": "markdown",
   "metadata": {},
   "source": [
    "#### Make a new results list."
   ]
  },
  {
   "cell_type": "code",
   "execution_count": null,
   "metadata": {
    "collapsed": true
   },
   "outputs": [],
   "source": [
    "results = list()"
   ]
  },
  {
   "cell_type": "markdown",
   "metadata": {},
   "source": [
    "#### Raw Benchmark"
   ]
  },
  {
   "cell_type": "markdown",
   "metadata": {},
   "source": [
    "Instantiate a new `LinearRegression` model and save it as `benchmark_raw`."
   ]
  },
  {
   "cell_type": "code",
   "execution_count": null,
   "metadata": {
    "collapsed": true
   },
   "outputs": [],
   "source": [
    "benchmark_raw = LinearRegression()"
   ]
  },
  {
   "cell_type": "markdown",
   "metadata": {},
   "source": [
    "- Fit the `benchmark_raw` model against the raw training data. \n",
    "- Score the `benchmark_raw` model against both the raw training set and the raw testing set. \n",
    "- Apprend a results dictionary to the `results` list. \n",
    "\n",
    "You could do this by\n",
    "\n",
    "    results.append({'name':'benchmark',\n",
    "                    'model': benchmark_raw,\n",
    "                    'dataset' : 'train',\n",
    "                    'preprocessing': 'raw',\n",
    "                    'score': raw_train_score})\n",
    "                    \n",
    "Of course you can store a model in a dictionary!                    "
   ]
  },
  {
   "cell_type": "code",
   "execution_count": null,
   "metadata": {
    "collapsed": true
   },
   "outputs": [],
   "source": [
    "benchmark_raw.fit(X_train, y_train)\n",
    "raw_train_score = benchmark_raw.score(X_train, y_train)\n",
    "raw_test_score = benchmark_raw.score(X_test, y_test)\n",
    "\n",
    "results.append({'name':'benchmark',\n",
    "                'model':benchmark_raw,\n",
    "                'dataset' : 'train',\n",
    "                'preprocessing': 'raw',\n",
    "                'score': raw_train_score})\n",
    "results.append({'name':'benchmark',\n",
    "                'model':benchmark_raw,\n",
    "                'dataset' : 'test',\n",
    "                'preprocessing': 'raw',\n",
    "                'score': raw_test_score})"
   ]
  },
  {
   "cell_type": "markdown",
   "metadata": {},
   "source": [
    "#### Scaled Benchmark"
   ]
  },
  {
   "cell_type": "markdown",
   "metadata": {},
   "source": [
    "- Fit the `benchmark_scaled` model against the scaled training data. \n",
    "- Score the `benchmark_scaled` model against both the scaled training set and the scaled testing set. \n",
    "- Write the results to the results `list`. "
   ]
  },
  {
   "cell_type": "code",
   "execution_count": null,
   "metadata": {
    "collapsed": true
   },
   "outputs": [],
   "source": []
  },
  {
   "cell_type": "markdown",
   "metadata": {},
   "source": [
    "Use a DataFrame to display your results."
   ]
  },
  {
   "cell_type": "code",
   "execution_count": null,
   "metadata": {},
   "outputs": [],
   "source": [
    "pd.DataFrame(results)"
   ]
  },
  {
   "cell_type": "markdown",
   "metadata": {},
   "source": [
    "#### What are your observations? Add them to this markdown cell.\n",
    "\n",
    "---\n"
   ]
  },
  {
   "cell_type": "markdown",
   "metadata": {},
   "source": [
    "### B. Naive Regularization\n",
    "\n",
    "Next, prepare a series of fits using the three regularized linear regression models with their default settings.\n",
    "\n",
    "Perform each of these against both the raw and the scaled data. In this section, you should be fitting six models.\n",
    "\n",
    "- A naive Ridge Regression against the raw data\n",
    "- A naive Lasso Regression against the raw data\n",
    "- A naive ElasticNet Regression against the raw data\n",
    "- A naive Ridge Regression against the scaled data\n",
    "- A naive Lasso Regression against the scaled data\n",
    "- A naive ElasticNet Regression against the scaled data\n",
    "\n",
    "**NOTE:** By \"naive\" we mean using all of the default settings."
   ]
  },
  {
   "cell_type": "code",
   "execution_count": null,
   "metadata": {
    "collapsed": true
   },
   "outputs": [],
   "source": [
    "from sklearn.linear_model import Ridge, Lasso, ElasticNet"
   ]
  },
  {
   "cell_type": "code",
   "execution_count": null,
   "metadata": {
    "collapsed": true
   },
   "outputs": [],
   "source": []
  },
  {
   "cell_type": "markdown",
   "metadata": {},
   "source": [
    "Note that we see warnings here. As we are in an exploration phase with our model, this is acceptable."
   ]
  },
  {
   "cell_type": "markdown",
   "metadata": {},
   "source": [
    "Use a DataFrame to store your `results` as `results_df`. By this we mean, save the `results` list into a new dataframe so that you can manipulate the DataFrame."
   ]
  },
  {
   "cell_type": "code",
   "execution_count": null,
   "metadata": {
    "collapsed": true
   },
   "outputs": [],
   "source": [
    "results_df = pd.DataFrame(results)"
   ]
  },
  {
   "cell_type": "markdown",
   "metadata": {},
   "source": [
    "#### Display just the raw test results using pandas"
   ]
  },
  {
   "cell_type": "markdown",
   "metadata": {},
   "source": [
    "You can do this using pandas indexing as follows\n",
    "\n",
    "    results_df[(results_df.preprocessing == 'raw') & \n",
    "               (results_df.dataset == 'test')]"
   ]
  },
  {
   "cell_type": "code",
   "execution_count": null,
   "metadata": {
    "collapsed": true
   },
   "outputs": [],
   "source": []
  },
  {
   "cell_type": "markdown",
   "metadata": {},
   "source": [
    "#### What are your observations? Add them to this markdown cell.\n",
    "\n",
    "---\n",
    "\n"
   ]
  },
  {
   "cell_type": "markdown",
   "metadata": {},
   "source": [
    "#### Display just the scaled test results"
   ]
  },
  {
   "cell_type": "code",
   "execution_count": null,
   "metadata": {
    "collapsed": true
   },
   "outputs": [],
   "source": []
  },
  {
   "cell_type": "markdown",
   "metadata": {},
   "source": [
    "#### What are your observations? Add them to this markdown cell.\n",
    "\n",
    "---\n",
    "\n"
   ]
  },
  {
   "cell_type": "markdown",
   "metadata": {},
   "source": [
    "These are your benchmark results. You will refer to these for analysis during the next phase."
   ]
  },
  {
   "cell_type": "markdown",
   "metadata": {},
   "source": [
    "#### Display just the Benchmark models"
   ]
  },
  {
   "cell_type": "code",
   "execution_count": null,
   "metadata": {
    "collapsed": true
   },
   "outputs": [],
   "source": []
  },
  {
   "cell_type": "markdown",
   "metadata": {},
   "source": [
    "#### Display just the Ridge models"
   ]
  },
  {
   "cell_type": "code",
   "execution_count": null,
   "metadata": {
    "collapsed": true
   },
   "outputs": [],
   "source": []
  },
  {
   "cell_type": "markdown",
   "metadata": {},
   "source": [
    "#### Display just the Lasso models"
   ]
  },
  {
   "cell_type": "code",
   "execution_count": null,
   "metadata": {
    "collapsed": true
   },
   "outputs": [],
   "source": []
  },
  {
   "cell_type": "markdown",
   "metadata": {},
   "source": [
    "#### Display just the Elasticnet models"
   ]
  },
  {
   "cell_type": "code",
   "execution_count": null,
   "metadata": {
    "collapsed": true
   },
   "outputs": [],
   "source": []
  },
  {
   "cell_type": "markdown",
   "metadata": {},
   "source": [
    "#### What are your observations? Add them to this markdown cell.\n",
    "\n",
    "---\n",
    "\n"
   ]
  },
  {
   "cell_type": "markdown",
   "metadata": {},
   "source": [
    "### C. Cross-validated models\n",
    "\n",
    "Import the Cross-Validation Models for each of the Regularized Linear Models"
   ]
  },
  {
   "cell_type": "code",
   "execution_count": null,
   "metadata": {
    "collapsed": true
   },
   "outputs": [],
   "source": [
    "cv_results = list()"
   ]
  },
  {
   "cell_type": "code",
   "execution_count": null,
   "metadata": {
    "collapsed": true
   },
   "outputs": [],
   "source": [
    "from sklearn.linear_model import RidgeCV, LassoCV, ElasticNetCV"
   ]
  },
  {
   "cell_type": "markdown",
   "metadata": {},
   "source": [
    "Perform the cross-validation using an `np.logspace(-2,4,7)`."
   ]
  },
  {
   "cell_type": "code",
   "execution_count": null,
   "metadata": {
    "collapsed": true
   },
   "outputs": [],
   "source": []
  },
  {
   "cell_type": "markdown",
   "metadata": {},
   "source": [
    "#### Display just the raw test results"
   ]
  },
  {
   "cell_type": "code",
   "execution_count": null,
   "metadata": {
    "collapsed": true
   },
   "outputs": [],
   "source": []
  },
  {
   "cell_type": "markdown",
   "metadata": {},
   "source": [
    "#### Display just the scaled test results"
   ]
  },
  {
   "cell_type": "code",
   "execution_count": null,
   "metadata": {
    "collapsed": true
   },
   "outputs": [],
   "source": []
  },
  {
   "cell_type": "markdown",
   "metadata": {},
   "source": [
    "### D. Model Selection\n",
    "\n",
    "Interpret Regression Metrics for each of your models. Choose one of the following:\n",
    "\n",
    "* R2\n",
    "* MSE / RMSE\n",
    "* MAE\n",
    "\n",
    "What are your top 3 performing models? "
   ]
  },
  {
   "cell_type": "code",
   "execution_count": null,
   "metadata": {
    "collapsed": true
   },
   "outputs": [],
   "source": []
  },
  {
   "cell_type": "markdown",
   "metadata": {},
   "source": [
    "## Explain the bias / variance tradeoff\n",
    "\n",
    "Why do regularized models perform better on your test set?"
   ]
  },
  {
   "cell_type": "code",
   "execution_count": null,
   "metadata": {
    "collapsed": true
   },
   "outputs": [],
   "source": []
  },
  {
   "cell_type": "markdown",
   "metadata": {},
   "source": [
    "### Interpreting coefficients\n",
    "\n",
    "For your best model, \n",
    "\n",
    "* plot relevant coefficients using the `plot_coef` functoin.\n"
   ]
  },
  {
   "cell_type": "code",
   "execution_count": null,
   "metadata": {
    "collapsed": true
   },
   "outputs": [],
   "source": [
    "def plot_coef(model, top_n = 10):\n",
    "    '''\n",
    "    Plots the magnitude of top and bottom n coefficients\n",
    "    '''\n",
    "    cols = X_train.columns\n",
    "    coef = model.coef_\n",
    "    zipped = list(zip(cols, coef))\n",
    "    zipped.sort(key=lambda x: x[1], reverse = True)\n",
    "    top_10 = pd.DataFrame(zipped).head(top_n)\n",
    "    bottom_10 = pd.DataFrame(zipped).tail(top_n)\n",
    "    return pd.concat([top_10, bottom_10], axis=0).plot.barh(x = 0, y = 1)"
   ]
  },
  {
   "cell_type": "markdown",
   "metadata": {},
   "source": [
    "#### Plot your coefficients."
   ]
  },
  {
   "cell_type": "code",
   "execution_count": null,
   "metadata": {
    "collapsed": true
   },
   "outputs": [],
   "source": []
  },
  {
   "cell_type": "markdown",
   "metadata": {},
   "source": [
    "#### Which features add / take away most value from a home?"
   ]
  },
  {
   "cell_type": "code",
   "execution_count": null,
   "metadata": {
    "collapsed": true
   },
   "outputs": [],
   "source": []
  },
  {
   "cell_type": "markdown",
   "metadata": {},
   "source": [
    "# (Optional) Informing Business Value\n",
    "\n",
    "Interpreting our work for a non-technical audience is a vital skill that every good Data Scientist must cultivate.  At the end of the day, our work must be informative to business process so connecting our detailed efforts to a high level strategy is critical.\n",
    "\n",
    "We've established a few businesses cases that you should assert some explanation and advise best strategy through a model of your choice.  Also call out any exploratory analysis and reasoning for any recommendation.\n",
    "\n",
    "##### For each question:\n",
    "* Plot relevant data\n",
    "* Fit a new model or use a previous  model\n",
    "* Plot relevant coefficients\n"
   ]
  },
  {
   "cell_type": "markdown",
   "metadata": {},
   "source": [
    "#### (Optional) Case 1: Which features add / take away most value from a home?\n",
    "\n",
    "You just explained which coeffients add / take away most value, technically, but can you explain this in a non-technical manner?  Also, emphasize _why_ in your explanation.\n",
    "\n",
    "- Choose a few examples and explain why the coefficients describe the target value of the property."
   ]
  },
  {
   "cell_type": "code",
   "execution_count": null,
   "metadata": {},
   "outputs": [],
   "source": []
  },
  {
   "cell_type": "markdown",
   "metadata": {},
   "source": [
    "#### (Optional) Case 2: Can you identify any abnormally priced houses?\n",
    "We might consider these being properties that are over or under predicted by price. Can you make sense of when and why these are over and under predicted?"
   ]
  },
  {
   "cell_type": "code",
   "execution_count": null,
   "metadata": {},
   "outputs": [],
   "source": []
  },
  {
   "cell_type": "markdown",
   "metadata": {},
   "source": [
    "#### (Optional) Case 3:  Which houses are good investments?\n",
    "\n",
    "Which criteria would you look at?  How sure can you be of your assumptions?  Give precise metrics but also give a concise recommendation that is non-technical that communicates the risks of your anlaysis."
   ]
  },
  {
   "cell_type": "code",
   "execution_count": null,
   "metadata": {},
   "outputs": [],
   "source": []
  },
  {
   "cell_type": "markdown",
   "metadata": {},
   "source": [
    "#### (Optional) Case 4:  Which houses are good investments (extended)?\n",
    "One idea that is common in the real-estate invement community is called \"flipping\".  This usually entails buying a property with \"changable\" charactaristics that can be upgraded.  Examples of changable or \"upgradable\" features include:  A garage, a kitchen, etc.\n",
    "\n",
    "Can you give us an idea of investments opportunities considering \"upgradable\" features?  You will have to explore this idea on your own and possibly do a little research for subject matter expertise.\n",
    "\n",
    "- Some features of a house are worth more than others\n",
    "- Some features can't be upgraded (ie: square footage)"
   ]
  },
  {
   "cell_type": "code",
   "execution_count": null,
   "metadata": {},
   "outputs": [],
   "source": []
  }
 ],
 "metadata": {
  "kernelspec": {
   "display_name": "Python 3",
   "language": "python",
   "name": "python3"
  },
  "language_info": {
   "codemirror_mode": {
    "name": "ipython",
    "version": 3
   },
   "file_extension": ".py",
   "mimetype": "text/x-python",
   "name": "python",
   "nbconvert_exporter": "python",
   "pygments_lexer": "ipython3",
   "version": "3.6.2"
  }
 },
 "nbformat": 4,
 "nbformat_minor": 2
}
