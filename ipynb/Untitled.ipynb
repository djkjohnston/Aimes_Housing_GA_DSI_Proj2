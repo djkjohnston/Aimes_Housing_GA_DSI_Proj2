{
 "cells": [
  {
   "cell_type": "code",
   "execution_count": 34,
   "metadata": {},
   "outputs": [
    {
     "name": "stdout",
     "output_type": "stream",
     "text": [
      "0 3 4 2\n",
      "0 4\n",
      "3 6\n",
      "6 8\n",
      "9 10\n",
      "12 12\n",
      "YES\n"
     ]
    }
   ],
   "source": [
    "import sys\n",
    "\n",
    "def kangaroo(x1, v1, x2, v2):\n",
    "    roo1 = k1(x1, v1)\n",
    "    roo2 = k2(x2, v2)\n",
    "    r1 = next(roo1)\n",
    "    r2 = next(roo2)\n",
    "    \n",
    "    while((r1 <= 10000) & (r2 <= 10000)):\n",
    "        if(r1 == r2):\n",
    "            return \"YES\"\n",
    "        else:\n",
    "            r1 = next(roo1)\n",
    "            r2 = next(roo2)\n",
    "    if(r1 > 10000 or r2 > 10000):\n",
    "        return \"NO\"\n",
    "    \n",
    "def k1(x1, v1):\n",
    "    place = 0\n",
    "    while((place+x1) <= 10000):\n",
    "        yield place + x1\n",
    "        place += v1\n",
    "    \n",
    "def k2(x2, v2):\n",
    "    place = 0\n",
    "    while((place+x2) <= 10000):\n",
    "        yield place + x2\n",
    "        place += v2\n",
    "\n",
    "x1, v1, x2, v2 = input().strip().split(' ')\n",
    "x1, v1, x2, v2 = [int(x1), int(v1), int(x2), int(v2)]\n",
    "result = kangaroo(x1, v1, x2, v2)\n",
    "print(result)"
   ]
  },
  {
   "cell_type": "code",
   "execution_count": 11,
   "metadata": {},
   "outputs": [],
   "source": [
    "test = k1(0,1)"
   ]
  },
  {
   "cell_type": "code",
   "execution_count": 14,
   "metadata": {},
   "outputs": [
    {
     "data": {
      "text/plain": [
       "2"
      ]
     },
     "execution_count": 14,
     "metadata": {},
     "output_type": "execute_result"
    }
   ],
   "source": [
    "next(test)"
   ]
  },
  {
   "cell_type": "code",
   "execution_count": 15,
   "metadata": {},
   "outputs": [
    {
     "data": {
      "text/plain": [
       "<generator object k1 at 0x7fa5e04e69e8>"
      ]
     },
     "execution_count": 15,
     "metadata": {},
     "output_type": "execute_result"
    }
   ],
   "source": [
    "test"
   ]
  },
  {
   "cell_type": "code",
   "execution_count": null,
   "metadata": {},
   "outputs": [],
   "source": []
  }
 ],
 "metadata": {
  "kernelspec": {
   "display_name": "Python 3",
   "language": "python",
   "name": "python3"
  },
  "language_info": {
   "codemirror_mode": {
    "name": "ipython",
    "version": 3
   },
   "file_extension": ".py",
   "mimetype": "text/x-python",
   "name": "python",
   "nbconvert_exporter": "python",
   "pygments_lexer": "ipython3",
   "version": "3.6.2"
  }
 },
 "nbformat": 4,
 "nbformat_minor": 2
}
